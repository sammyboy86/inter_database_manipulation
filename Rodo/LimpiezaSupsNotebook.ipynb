{
 "cells": [
  {
   "cell_type": "code",
   "execution_count": 119,
   "id": "fc59a9a8",
   "metadata": {},
   "outputs": [],
   "source": [
    "import pandas as pd\n",
    "import numpy as np"
   ]
  },
  {
   "cell_type": "code",
   "execution_count": 120,
   "id": "d4e59f6d",
   "metadata": {},
   "outputs": [],
   "source": [
    "data=pd.read_csv('dataMonet.csv')  "
   ]
  },
  {
   "cell_type": "code",
   "execution_count": 124,
   "id": "88512b23",
   "metadata": {},
   "outputs": [],
   "source": [
    "#estas son las columnas que queremos modificar\n",
    "porMod=['appearance.height','appearance.weight','work.occupation','biography.fullName','biography.alterEgos','biography.firstAppearance','biography.aliases']\n"
   ]
  },
  {
   "cell_type": "code",
   "execution_count": 125,
   "id": "388aad26",
   "metadata": {},
   "outputs": [],
   "source": [
    "#cambiamos todas las comas de cada columna obtenida por \"-\",\n",
    "#cada columna va en un arreglo y eso dentro de otro arreglo llamado results\n",
    "results=[]\n",
    "for j in porMod:    \n",
    "    col=data[j]\n",
    "    resAux=[]\n",
    "    for i in col:\n",
    "        resAux.append(str(i).replace(\",\", \"-\" )) \n",
    "    results.append(resAux)"
   ]
  },
  {
   "cell_type": "code",
   "execution_count": 126,
   "id": "8f75db5d",
   "metadata": {},
   "outputs": [],
   "source": [
    "#cambiamos columnas viejas por nuevas\n",
    "dataAux=data\n",
    "cont=0\n",
    "for h in porMod:    \n",
    "    dataAux[h] = results[cont]\n",
    "    cont=cont+1"
   ]
  },
  {
   "cell_type": "code",
   "execution_count": 129,
   "id": "0e1717de",
   "metadata": {},
   "outputs": [],
   "source": [
    "#lo pasamos a un csv\n",
    "dataAux.to_csv('../supsLimpio.csv',header=True,index=False)"
   ]
  }
 ],
 "metadata": {
  "kernelspec": {
   "display_name": "Python 3 (ipykernel)",
   "language": "python",
   "name": "python3"
  },
  "language_info": {
   "codemirror_mode": {
    "name": "ipython",
    "version": 3
   },
   "file_extension": ".py",
   "mimetype": "text/x-python",
   "name": "python",
   "nbconvert_exporter": "python",
   "pygments_lexer": "ipython3",
   "version": "3.9.7"
  }
 },
 "nbformat": 4,
 "nbformat_minor": 5
}
