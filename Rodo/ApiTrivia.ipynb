{
 "cells": [
  {
   "cell_type": "code",
   "execution_count": 1,
   "id": "5e45f920",
   "metadata": {},
   "outputs": [],
   "source": [
    "import pymongo\n",
    "import requests\n",
    "import json"
   ]
  },
  {
   "cell_type": "code",
   "execution_count": 6,
   "id": "a9106af2",
   "metadata": {},
   "outputs": [],
   "source": [
    "from pymongo import MongoClient\n",
    "c = MongoClient()\n",
    "db=c.trivia"
   ]
  },
  {
   "cell_type": "code",
   "execution_count": 7,
   "id": "cc4f0771",
   "metadata": {},
   "outputs": [
    {
     "data": {
      "text/plain": [
       "Database(MongoClient(host=['localhost:27017'], document_class=dict, tz_aware=False, connect=True), 'trivia')"
      ]
     },
     "execution_count": 7,
     "metadata": {},
     "output_type": "execute_result"
    }
   ],
   "source": [
    "db"
   ]
  },
  {
   "cell_type": "code",
   "execution_count": 26,
   "id": "960827ed",
   "metadata": {},
   "outputs": [
    {
     "data": {
      "text/plain": [
       "'{\"trivia_categories\":[{\"id\":9,\"name\":\"General Knowledge\"},{\"id\":10,\"name\":\"Entertainment: Books\"},{\"id\":11,\"name\":\"Entertainment: Film\"},{\"id\":12,\"name\":\"Entertainment: Music\"},{\"id\":13,\"name\":\"Entertainment: Musicals & Theatres\"},{\"id\":14,\"name\":\"Entertainment: Television\"},{\"id\":15,\"name\":\"Entertainment: Video Games\"},{\"id\":16,\"name\":\"Entertainment: Board Games\"},{\"id\":17,\"name\":\"Science & Nature\"},{\"id\":18,\"name\":\"Science: Computers\"},{\"id\":19,\"name\":\"Science: Mathematics\"},{\"id\":20,\"name\":\"Mythology\"},{\"id\":21,\"name\":\"Sports\"},{\"id\":22,\"name\":\"Geography\"},{\"id\":23,\"name\":\"History\"},{\"id\":24,\"name\":\"Politics\"},{\"id\":25,\"name\":\"Art\"},{\"id\":26,\"name\":\"Celebrities\"},{\"id\":27,\"name\":\"Animals\"},{\"id\":28,\"name\":\"Vehicles\"},{\"id\":29,\"name\":\"Entertainment: Comics\"},{\"id\":30,\"name\":\"Science: Gadgets\"},{\"id\":31,\"name\":\"Entertainment: Japanese Anime & Manga\"},{\"id\":32,\"name\":\"Entertainment: Cartoon & Animations\"}]}'"
      ]
     },
     "execution_count": 26,
     "metadata": {},
     "output_type": "execute_result"
    }
   ],
   "source": [
    "#esto nos regresa las categorias en la base de datos\n",
    "x='https://opentdb.com/api_category.php'\n",
    "r=requests.get(x).text\n",
    "r"
   ]
  },
  {
   "cell_type": "code",
   "execution_count": 30,
   "id": "b2a0a094",
   "metadata": {},
   "outputs": [
    {
     "data": {
      "text/plain": [
       "'{\"category_id\":31,\"category_question_count\":{\"total_question_count\":184,\"total_easy_question_count\":59,\"total_medium_question_count\":82,\"total_hard_question_count\":43}}'"
      ]
     },
     "execution_count": 30,
     "metadata": {},
     "output_type": "execute_result"
    }
   ],
   "source": [
    "#el número de preguntas por categoria\n",
    "# ejemplo: https://opentdb.com/api_count.php?category=CATEGORY_ID_HERE\n",
    "x='https://opentdb.com/api_count.php?category=31'\n",
    "r=requests.get(x).text\n",
    "r"
   ]
  },
  {
   "cell_type": "code",
   "execution_count": 31,
   "id": "efa5a451",
   "metadata": {},
   "outputs": [
    {
     "data": {
      "text/plain": [
       "'{\"overall\":{\"total_num_of_questions\":16633,\"total_num_of_pending_questions\":9541,\"total_num_of_verified_questions\":4072,\"total_num_of_rejected_questions\":3021},\"categories\":{\"9\":{\"total_num_of_questions\":3643,\"total_num_of_pending_questions\":2429,\"total_num_of_verified_questions\":300,\"total_num_of_rejected_questions\":914},\"10\":{\"total_num_of_questions\":414,\"total_num_of_pending_questions\":261,\"total_num_of_verified_questions\":97,\"total_num_of_rejected_questions\":56},\"11\":{\"total_num_of_questions\":929,\"total_num_of_pending_questions\":592,\"total_num_of_verified_questions\":246,\"total_num_of_rejected_questions\":91},\"12\":{\"total_num_of_questions\":1041,\"total_num_of_pending_questions\":536,\"total_num_of_verified_questions\":364,\"total_num_of_rejected_questions\":141},\"13\":{\"total_num_of_questions\":118,\"total_num_of_pending_questions\":70,\"total_num_of_verified_questions\":31,\"total_num_of_rejected_questions\":17},\"14\":{\"total_num_of_questions\":632,\"total_num_of_pending_questions\":374,\"total_num_of_verified_questions\":170,\"total_num_of_rejected_questions\":88},\"15\":{\"total_num_of_questions\":3365,\"total_num_of_pending_questions\":1746,\"total_num_of_verified_questions\":945,\"total_num_of_rejected_questions\":674},\"16\":{\"total_num_of_questions\":212,\"total_num_of_pending_questions\":120,\"total_num_of_verified_questions\":59,\"total_num_of_rejected_questions\":33},\"17\":{\"total_num_of_questions\":749,\"total_num_of_pending_questions\":429,\"total_num_of_verified_questions\":228,\"total_num_of_rejected_questions\":92},\"18\":{\"total_num_of_questions\":619,\"total_num_of_pending_questions\":348,\"total_num_of_verified_questions\":159,\"total_num_of_rejected_questions\":112},\"19\":{\"total_num_of_questions\":309,\"total_num_of_pending_questions\":153,\"total_num_of_verified_questions\":52,\"total_num_of_rejected_questions\":104},\"20\":{\"total_num_of_questions\":159,\"total_num_of_pending_questions\":88,\"total_num_of_verified_questions\":57,\"total_num_of_rejected_questions\":14},\"21\":{\"total_num_of_questions\":662,\"total_num_of_pending_questions\":449,\"total_num_of_verified_questions\":132,\"total_num_of_rejected_questions\":81},\"22\":{\"total_num_of_questions\":680,\"total_num_of_pending_questions\":308,\"total_num_of_verified_questions\":275,\"total_num_of_rejected_questions\":97},\"23\":{\"total_num_of_questions\":825,\"total_num_of_pending_questions\":388,\"total_num_of_verified_questions\":308,\"total_num_of_rejected_questions\":130},\"24\":{\"total_num_of_questions\":226,\"total_num_of_pending_questions\":121,\"total_num_of_verified_questions\":59,\"total_num_of_rejected_questions\":46},\"25\":{\"total_num_of_questions\":155,\"total_num_of_pending_questions\":107,\"total_num_of_verified_questions\":29,\"total_num_of_rejected_questions\":19},\"26\":{\"total_num_of_questions\":215,\"total_num_of_pending_questions\":124,\"total_num_of_verified_questions\":52,\"total_num_of_rejected_questions\":39},\"27\":{\"total_num_of_questions\":265,\"total_num_of_pending_questions\":159,\"total_num_of_verified_questions\":75,\"total_num_of_rejected_questions\":31},\"28\":{\"total_num_of_questions\":249,\"total_num_of_pending_questions\":145,\"total_num_of_verified_questions\":71,\"total_num_of_rejected_questions\":33},\"29\":{\"total_num_of_questions\":152,\"total_num_of_pending_questions\":69,\"total_num_of_verified_questions\":66,\"total_num_of_rejected_questions\":17},\"30\":{\"total_num_of_questions\":85,\"total_num_of_pending_questions\":52,\"total_num_of_verified_questions\":24,\"total_num_of_rejected_questions\":9},\"31\":{\"total_num_of_questions\":643,\"total_num_of_pending_questions\":302,\"total_num_of_verified_questions\":184,\"total_num_of_rejected_questions\":157},\"32\":{\"total_num_of_questions\":286,\"total_num_of_pending_questions\":171,\"total_num_of_verified_questions\":89,\"total_num_of_rejected_questions\":26}}}'"
      ]
     },
     "execution_count": 31,
     "metadata": {},
     "output_type": "execute_result"
    }
   ],
   "source": [
    "#regresa todas las preguntas de la base y su estatus\n",
    "x='https://opentdb.com/api_count_global.php'\n",
    "r=requests.get(x).text\n",
    "r"
   ]
  },
  {
   "cell_type": "code",
   "execution_count": 35,
   "id": "ff0042c7",
   "metadata": {},
   "outputs": [
    {
     "data": {
      "text/plain": [
       "'{\"response_code\":0,\"results\":[{\"category\":\"Entertainment: Books\",\"type\":\"multiple\",\"difficulty\":\"hard\",\"question\":\"Who wrote the novel &quot;Moby-Dick&quot;?\",\"correct_answer\":\"Herman Melville\",\"incorrect_answers\":[\"William Golding\",\"William Shakespeare\",\"J. R. R. Tolkien\"]},{\"category\":\"General Knowledge\",\"type\":\"boolean\",\"difficulty\":\"medium\",\"question\":\"&quot;Typewriter&quot; is the longest word that can be typed using only the first row on a QWERTY keyboard.\",\"correct_answer\":\"True\",\"incorrect_answers\":[\"False\"]},{\"category\":\"Entertainment: Video Games\",\"type\":\"multiple\",\"difficulty\":\"medium\",\"question\":\"Which was the first video game to be produced by development company Rare?\",\"correct_answer\":\"Slalom\",\"incorrect_answers\":[\"R.C. Pro-Am\",\"Donkey Kong Country\",\"Battletoads\"]},{\"category\":\"Science & Nature\",\"type\":\"multiple\",\"difficulty\":\"medium\",\"question\":\"The medical condition osteoporosis affects which part of the body?\",\"correct_answer\":\"Bones\",\"incorrect_answers\":[\"Skin\",\"Brain\",\"Heart\"]},{\"category\":\"Entertainment: Video Games\",\"type\":\"multiple\",\"difficulty\":\"medium\",\"question\":\"In World of Warcraft lore, who was first to have the title &quot;The Ashbringer&quot;?\",\"correct_answer\":\"Alexandros Mograine\",\"incorrect_answers\":[\"Tirion Fordring\",\"Arthas Menethil\",\"Uther the Lightbringer\"]},{\"category\":\"Entertainment: Film\",\"type\":\"boolean\",\"difficulty\":\"easy\",\"question\":\"&quot;Minions&quot; was released on the June 10th, 2015.\",\"correct_answer\":\"False\",\"incorrect_answers\":[\"True\"]},{\"category\":\"Entertainment: Japanese Anime & Manga\",\"type\":\"multiple\",\"difficulty\":\"easy\",\"question\":\"What is the theme song of &quot;Neon Genesis Evangelion&quot;?\",\"correct_answer\":\"A Cruel Angel&#039;s Thesis\",\"incorrect_answers\":[\"Stardust Crusaders\",\"Requiem for a Dream\",\"God Knows\"]},{\"category\":\"Entertainment: Film\",\"type\":\"multiple\",\"difficulty\":\"medium\",\"question\":\"Which star actor was in &quot;Top Gun&quot;, &quot;Jerry Maguire&quot; and &quot;Born on the Fourth of July&quot;?\",\"correct_answer\":\"Tom Cruise\",\"incorrect_answers\":[\"Kelly McGillis\",\"John Travolta\",\"George Clooney\"]},{\"category\":\"General Knowledge\",\"type\":\"multiple\",\"difficulty\":\"easy\",\"question\":\"The Canadian $1 coin is colloquially known as a what?\",\"correct_answer\":\"Loonie\",\"incorrect_answers\":[\"Boolie\",\"Foolie\",\"Moodie\"]},{\"category\":\"Geography\",\"type\":\"multiple\",\"difficulty\":\"easy\",\"question\":\"What is the largest country in the world ?\",\"correct_answer\":\"Russian Federation\",\"incorrect_answers\":[\"China\",\"Canada\",\"Brazil\"]}]}'"
      ]
     },
     "execution_count": 35,
     "metadata": {},
     "output_type": "execute_result"
    }
   ],
   "source": [
    "#aqui te regresa 10 preguntas al azar\n",
    "x='https://opentdb.com/api.php?amount=10'\n",
    "r=requests.get(x).text\n",
    "r"
   ]
  },
  {
   "cell_type": "code",
   "execution_count": 39,
   "id": "36cb3a0b",
   "metadata": {},
   "outputs": [
    {
     "name": "stderr",
     "output_type": "stream",
     "text": [
      "C:\\Users\\rdo12\\AppData\\Local\\Temp\\ipykernel_20748\\1974643565.py:5: DeprecationWarning: insert is deprecated. Use insert_one or insert_many instead.\n",
      "  result = db.mitologia.insert(mit)\n"
     ]
    }
   ],
   "source": [
    "#pediremos 25 preguntas de mitologia, las pasamos a json y despues insertamos en Mongo\n",
    "x='https://opentdb.com/api.php?amount=25&category=20'\n",
    "r=requests.get(x).text\n",
    "mit=json.loads(r)\n",
    "result = db.mitologia.insert_one(mit)"
   ]
  },
  {
   "cell_type": "code",
   "execution_count": 42,
   "id": "b0585f8f",
   "metadata": {},
   "outputs": [
    {
     "data": {
      "text/plain": [
       "ObjectId('6388e4200df36b1835f95ad6')"
      ]
     },
     "execution_count": 42,
     "metadata": {},
     "output_type": "execute_result"
    }
   ],
   "source": [
    "#aunque hayamos insertado 25 preguntas nos regresa un ObjectId, si quisieras que cada pregunta tuviera\n",
    "#su propio, podríamos hacer un for donde metemos cada pregunta individualmente, o podriamos tambien dejarlo así\n",
    "#e insertamos otras 25 pero de distintas categorias de preguntas\n",
    "\n",
    "result"
   ]
  }
 ],
 "metadata": {
  "kernelspec": {
   "display_name": "Python 3 (ipykernel)",
   "language": "python",
   "name": "python3"
  },
  "language_info": {
   "codemirror_mode": {
    "name": "ipython",
    "version": 3
   },
   "file_extension": ".py",
   "mimetype": "text/x-python",
   "name": "python",
   "nbconvert_exporter": "python",
   "pygments_lexer": "ipython3",
   "version": "3.9.13"
  }
 },
 "nbformat": 4,
 "nbformat_minor": 5
}
